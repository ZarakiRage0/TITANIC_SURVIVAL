{
 "cells": [
  {
   "cell_type": "markdown",
   "id": "5988b497",
   "metadata": {},
   "source": [
    "###### Enabling tab help"
   ]
  },
  {
   "cell_type": "code",
   "execution_count": 1,
   "id": "e5b92f50",
   "metadata": {},
   "outputs": [],
   "source": [
    "%config Completer.use_jedi = False"
   ]
  },
  {
   "cell_type": "markdown",
   "id": "381731dc",
   "metadata": {},
   "source": [
    "# Titanic - ML\n"
   ]
  },
  {
   "cell_type": "markdown",
   "id": "b37e6565",
   "metadata": {},
   "source": [
    "We will be using the titanic dataset to predict the survivors of the sinking of the Titanic ship."
   ]
  },
  {
   "cell_type": "markdown",
   "id": "35e19578",
   "metadata": {},
   "source": [
    "## Dataset Load"
   ]
  },
  {
   "cell_type": "code",
   "execution_count": 2,
   "id": "4df3b87f",
   "metadata": {},
   "outputs": [],
   "source": [
    "import numpy as np\n",
    "import matplotlib.pyplot as plt\n",
    "import seaborn as sns\n",
    "import pandas as pd"
   ]
  },
  {
   "cell_type": "code",
   "execution_count": 3,
   "id": "f260a92e",
   "metadata": {},
   "outputs": [],
   "source": [
    "dataset_titanic = pd.read_excel(\"datasets/titanic_panda.xls\")"
   ]
  },
  {
   "cell_type": "code",
   "execution_count": 4,
   "id": "1dc0c5a2",
   "metadata": {},
   "outputs": [
    {
     "name": "stdout",
     "output_type": "stream",
     "text": [
      "(1309, 14)\n"
     ]
    },
    {
     "data": {
      "text/html": [
       "<div>\n",
       "<style scoped>\n",
       "    .dataframe tbody tr th:only-of-type {\n",
       "        vertical-align: middle;\n",
       "    }\n",
       "\n",
       "    .dataframe tbody tr th {\n",
       "        vertical-align: top;\n",
       "    }\n",
       "\n",
       "    .dataframe thead th {\n",
       "        text-align: right;\n",
       "    }\n",
       "</style>\n",
       "<table border=\"1\" class=\"dataframe\">\n",
       "  <thead>\n",
       "    <tr style=\"text-align: right;\">\n",
       "      <th></th>\n",
       "      <th>pclass</th>\n",
       "      <th>survived</th>\n",
       "      <th>name</th>\n",
       "      <th>sex</th>\n",
       "      <th>age</th>\n",
       "      <th>sibsp</th>\n",
       "      <th>parch</th>\n",
       "      <th>ticket</th>\n",
       "      <th>fare</th>\n",
       "      <th>cabin</th>\n",
       "      <th>embarked</th>\n",
       "      <th>boat</th>\n",
       "      <th>body</th>\n",
       "      <th>home.dest</th>\n",
       "    </tr>\n",
       "  </thead>\n",
       "  <tbody>\n",
       "    <tr>\n",
       "      <th>0</th>\n",
       "      <td>1</td>\n",
       "      <td>1</td>\n",
       "      <td>Allen, Miss. Elisabeth Walton</td>\n",
       "      <td>female</td>\n",
       "      <td>29.0000</td>\n",
       "      <td>0</td>\n",
       "      <td>0</td>\n",
       "      <td>24160</td>\n",
       "      <td>211.3375</td>\n",
       "      <td>B5</td>\n",
       "      <td>S</td>\n",
       "      <td>2</td>\n",
       "      <td>NaN</td>\n",
       "      <td>St Louis, MO</td>\n",
       "    </tr>\n",
       "    <tr>\n",
       "      <th>1</th>\n",
       "      <td>1</td>\n",
       "      <td>1</td>\n",
       "      <td>Allison, Master. Hudson Trevor</td>\n",
       "      <td>male</td>\n",
       "      <td>0.9167</td>\n",
       "      <td>1</td>\n",
       "      <td>2</td>\n",
       "      <td>113781</td>\n",
       "      <td>151.5500</td>\n",
       "      <td>C22 C26</td>\n",
       "      <td>S</td>\n",
       "      <td>11</td>\n",
       "      <td>NaN</td>\n",
       "      <td>Montreal, PQ / Chesterville, ON</td>\n",
       "    </tr>\n",
       "    <tr>\n",
       "      <th>2</th>\n",
       "      <td>1</td>\n",
       "      <td>0</td>\n",
       "      <td>Allison, Miss. Helen Loraine</td>\n",
       "      <td>female</td>\n",
       "      <td>2.0000</td>\n",
       "      <td>1</td>\n",
       "      <td>2</td>\n",
       "      <td>113781</td>\n",
       "      <td>151.5500</td>\n",
       "      <td>C22 C26</td>\n",
       "      <td>S</td>\n",
       "      <td>NaN</td>\n",
       "      <td>NaN</td>\n",
       "      <td>Montreal, PQ / Chesterville, ON</td>\n",
       "    </tr>\n",
       "    <tr>\n",
       "      <th>3</th>\n",
       "      <td>1</td>\n",
       "      <td>0</td>\n",
       "      <td>Allison, Mr. Hudson Joshua Creighton</td>\n",
       "      <td>male</td>\n",
       "      <td>30.0000</td>\n",
       "      <td>1</td>\n",
       "      <td>2</td>\n",
       "      <td>113781</td>\n",
       "      <td>151.5500</td>\n",
       "      <td>C22 C26</td>\n",
       "      <td>S</td>\n",
       "      <td>NaN</td>\n",
       "      <td>135.0</td>\n",
       "      <td>Montreal, PQ / Chesterville, ON</td>\n",
       "    </tr>\n",
       "    <tr>\n",
       "      <th>4</th>\n",
       "      <td>1</td>\n",
       "      <td>0</td>\n",
       "      <td>Allison, Mrs. Hudson J C (Bessie Waldo Daniels)</td>\n",
       "      <td>female</td>\n",
       "      <td>25.0000</td>\n",
       "      <td>1</td>\n",
       "      <td>2</td>\n",
       "      <td>113781</td>\n",
       "      <td>151.5500</td>\n",
       "      <td>C22 C26</td>\n",
       "      <td>S</td>\n",
       "      <td>NaN</td>\n",
       "      <td>NaN</td>\n",
       "      <td>Montreal, PQ / Chesterville, ON</td>\n",
       "    </tr>\n",
       "  </tbody>\n",
       "</table>\n",
       "</div>"
      ],
      "text/plain": [
       "   pclass  survived                                             name     sex  \\\n",
       "0       1         1                    Allen, Miss. Elisabeth Walton  female   \n",
       "1       1         1                   Allison, Master. Hudson Trevor    male   \n",
       "2       1         0                     Allison, Miss. Helen Loraine  female   \n",
       "3       1         0             Allison, Mr. Hudson Joshua Creighton    male   \n",
       "4       1         0  Allison, Mrs. Hudson J C (Bessie Waldo Daniels)  female   \n",
       "\n",
       "       age  sibsp  parch  ticket      fare    cabin embarked boat   body  \\\n",
       "0  29.0000      0      0   24160  211.3375       B5        S    2    NaN   \n",
       "1   0.9167      1      2  113781  151.5500  C22 C26        S   11    NaN   \n",
       "2   2.0000      1      2  113781  151.5500  C22 C26        S  NaN    NaN   \n",
       "3  30.0000      1      2  113781  151.5500  C22 C26        S  NaN  135.0   \n",
       "4  25.0000      1      2  113781  151.5500  C22 C26        S  NaN    NaN   \n",
       "\n",
       "                         home.dest  \n",
       "0                     St Louis, MO  \n",
       "1  Montreal, PQ / Chesterville, ON  \n",
       "2  Montreal, PQ / Chesterville, ON  \n",
       "3  Montreal, PQ / Chesterville, ON  \n",
       "4  Montreal, PQ / Chesterville, ON  "
      ]
     },
     "execution_count": 4,
     "metadata": {},
     "output_type": "execute_result"
    }
   ],
   "source": [
    "print(dataset_titanic.shape)\n",
    "dataset_titanic.head()"
   ]
  },
  {
   "cell_type": "markdown",
   "id": "aecfa8c0",
   "metadata": {},
   "source": [
    "## Preprocessing"
   ]
  },
  {
   "cell_type": "code",
   "execution_count": 5,
   "id": "e4e563cd",
   "metadata": {},
   "outputs": [
    {
     "name": "stdout",
     "output_type": "stream",
     "text": [
      "<class 'pandas.core.frame.DataFrame'>\n",
      "RangeIndex: 1309 entries, 0 to 1308\n",
      "Data columns (total 14 columns):\n",
      " #   Column     Non-Null Count  Dtype  \n",
      "---  ------     --------------  -----  \n",
      " 0   pclass     1309 non-null   int64  \n",
      " 1   survived   1309 non-null   int64  \n",
      " 2   name       1309 non-null   object \n",
      " 3   sex        1309 non-null   object \n",
      " 4   age        1046 non-null   float64\n",
      " 5   sibsp      1309 non-null   int64  \n",
      " 6   parch      1309 non-null   int64  \n",
      " 7   ticket     1309 non-null   object \n",
      " 8   fare       1308 non-null   float64\n",
      " 9   cabin      295 non-null    object \n",
      " 10  embarked   1307 non-null   object \n",
      " 11  boat       486 non-null    object \n",
      " 12  body       121 non-null    float64\n",
      " 13  home.dest  745 non-null    object \n",
      "dtypes: float64(3), int64(4), object(7)\n",
      "memory usage: 143.3+ KB\n"
     ]
    }
   ],
   "source": [
    "dataset_titanic.info()"
   ]
  },
  {
   "cell_type": "markdown",
   "id": "1f813821",
   "metadata": {},
   "source": [
    "Some columns in the dataset contain a lot of null values. And so we will be dropping these columns along side some others."
   ]
  },
  {
   "cell_type": "code",
   "execution_count": 6,
   "id": "6e78031a",
   "metadata": {},
   "outputs": [],
   "source": [
    "dataset_titanic = dataset_titanic.drop(['fare','ticket','embarked','cabin','boat', 'body', 'home.dest','name'], axis=1)"
   ]
  },
  {
   "cell_type": "code",
   "execution_count": 7,
   "id": "4a038698",
   "metadata": {},
   "outputs": [
    {
     "name": "stdout",
     "output_type": "stream",
     "text": [
      "<class 'pandas.core.frame.DataFrame'>\n",
      "RangeIndex: 1309 entries, 0 to 1308\n",
      "Data columns (total 6 columns):\n",
      " #   Column    Non-Null Count  Dtype  \n",
      "---  ------    --------------  -----  \n",
      " 0   pclass    1309 non-null   int64  \n",
      " 1   survived  1309 non-null   int64  \n",
      " 2   sex       1309 non-null   object \n",
      " 3   age       1046 non-null   float64\n",
      " 4   sibsp     1309 non-null   int64  \n",
      " 5   parch     1309 non-null   int64  \n",
      "dtypes: float64(1), int64(4), object(1)\n",
      "memory usage: 61.5+ KB\n"
     ]
    }
   ],
   "source": [
    "dataset_titanic.info()"
   ]
  },
  {
   "cell_type": "code",
   "execution_count": 8,
   "id": "0f2c6610",
   "metadata": {},
   "outputs": [],
   "source": [
    "dataset_titanic = dataset_titanic.dropna(axis=0)"
   ]
  },
  {
   "cell_type": "code",
   "execution_count": 9,
   "id": "bca76143",
   "metadata": {},
   "outputs": [
    {
     "data": {
      "image/png": "[encoded data removed]",
      "text/plain": [
       "<Figure size 432x288 with 2 Axes>"
      ]
     },
     "metadata": {
      "needs_background": "light"
     },
     "output_type": "display_data"
    }
   ],
   "source": [
    "corrMatrix = dataset_titanic.corr()\n",
    "sns.heatmap(corrMatrix, annot=True)\n",
    "plt.show()"
   ]
  },
  {
   "cell_type": "markdown",
   "id": "c67de796",
   "metadata": {},
   "source": [
    "### Survival Rate - Visualization"
   ]
  },
  {
   "cell_type": "markdown",
   "id": "6ab5fbb3",
   "metadata": {},
   "source": [
    "#### By sex"
   ]
  },
  {
   "cell_type": "code",
   "execution_count": 10,
   "id": "8e3b8311",
   "metadata": {},
   "outputs": [
    {
     "data": {
      "text/plain": [
       "<AxesSubplot:xlabel='sex', ylabel='survived'>"
      ]
     },
     "execution_count": 10,
     "metadata": {},
     "output_type": "execute_result"
    },
    {
     "data": {
      "image/png": "[encoded data removed]",
      "text/plain": [
       "<Figure size 432x288 with 1 Axes>"
      ]
     },
     "metadata": {
      "needs_background": "light"
     },
     "output_type": "display_data"
    }
   ],
   "source": [
    "sns.barplot(x='sex', y='survived', data=dataset_titanic)"
   ]
  },
  {
   "cell_type": "markdown",
   "id": "bb21f31c",
   "metadata": {},
   "source": [
    "From this figure, we can see that more men died on the ship; a 3x mortality rate of men compared to women."
   ]
  },
  {
   "cell_type": "markdown",
   "id": "6bb0aa91",
   "metadata": {},
   "source": [
    "#### By class"
   ]
  },
  {
   "cell_type": "code",
   "execution_count": 11,
   "id": "cc314739",
   "metadata": {
    "scrolled": true
   },
   "outputs": [
    {
     "data": {
      "text/plain": [
       "<AxesSubplot:xlabel='pclass', ylabel='survived'>"
      ]
     },
     "execution_count": 11,
     "metadata": {},
     "output_type": "execute_result"
    },
    {
     "data": {
      "image/png": "[encoded data removed]",
      "text/plain": [
       "<Figure size 432x288 with 1 Axes>"
      ]
     },
     "metadata": {
      "needs_background": "light"
     },
     "output_type": "display_data"
    }
   ],
   "source": [
    "sns.barplot(x='pclass', y='survived', hue='sex', data=dataset_titanic)"
   ]
  },
  {
   "cell_type": "markdown",
   "id": "d92f4a1c",
   "metadata": {},
   "source": [
    "The females in the 3rd class have very low survival rate compared to their counterparts in the 1st and 2nd classes.  \n",
    "The males remain at the bottom of the survival pool."
   ]
  },
  {
   "cell_type": "markdown",
   "id": "7e7eb3c9",
   "metadata": {},
   "source": [
    "#### By group age"
   ]
  },
  {
   "cell_type": "code",
   "execution_count": 12,
   "id": "1f711188",
   "metadata": {},
   "outputs": [],
   "source": [
    "def age_category(age):\n",
    "    if age < 15 :\n",
    "        return \"child\"\n",
    "    elif age > 64 :\n",
    "        return \"elderly\"\n",
    "    return \"adult\""
   ]
  },
  {
   "cell_type": "code",
   "execution_count": 13,
   "id": "61b76a5a",
   "metadata": {},
   "outputs": [
    {
     "data": {
      "image/png": "[encoded data removed]",
      "text/plain": [
       "<Figure size 432x288 with 1 Axes>"
      ]
     },
     "metadata": {
      "needs_background": "light"
     },
     "output_type": "display_data"
    }
   ],
   "source": [
    "age_groups_names = [\"child\", \"adult\", \"elderly\"]\n",
    "dataset_titanic['age_category'] = dataset_titanic['age'].apply(lambda x: age_category(x))\n",
    "sns.barplot(x='age_category', y='survived', hue='sex', data=dataset_titanic, order=age_groups_names)\n",
    "dataset_titanic.drop('age_category', axis=1, inplace=True)"
   ]
  },
  {
   "cell_type": "markdown",
   "id": "62238a9f",
   "metadata": {},
   "source": [
    "Overall, females have a high survival rate with elderly being the highest whilst female children are the lowest."
   ]
  },
  {
   "cell_type": "markdown",
   "id": "ef785136",
   "metadata": {},
   "source": [
    "###### Conclusion\n",
    "From our analysis, we can see that sex, age, pclass are imporant variables to the survival rates of the passengers and crew members."
   ]
  },
  {
   "cell_type": "code",
   "execution_count": 14,
   "id": "ebd99d40",
   "metadata": {},
   "outputs": [],
   "source": [
    "from sklearn import preprocessing\n",
    "le = preprocessing.LabelEncoder()\n",
    "le.fit(dataset_titanic[\"sex\"])\n",
    "dataset_titanic[\"sex\"] = le.transform(dataset_titanic[\"sex\"])\n",
    "        "
   ]
  },
  {
   "cell_type": "markdown",
   "id": "a1735b6d",
   "metadata": {},
   "source": [
    "## Learning"
   ]
  },
  {
   "cell_type": "code",
   "execution_count": 15,
   "id": "7a250ae3",
   "metadata": {},
   "outputs": [],
   "source": [
    "y = dataset_titanic[\"survived\"]\n",
    "x = dataset_titanic.drop('survived', axis=1)"
   ]
  },
  {
   "cell_type": "markdown",
   "id": "63e5c823",
   "metadata": {},
   "source": [
    "### Train & Test sets"
   ]
  },
  {
   "cell_type": "code",
   "execution_count": 16,
   "id": "e03b5650",
   "metadata": {},
   "outputs": [],
   "source": [
    "from sklearn.model_selection import train_test_split\n",
    "\n",
    "X_train, X_test, y_train, y_test = train_test_split(x, y, test_size=0.2, random_state=20)"
   ]
  },
  {
   "cell_type": "markdown",
   "id": "95fe9c87",
   "metadata": {},
   "source": [
    "### Classifiers"
   ]
  },
  {
   "cell_type": "markdown",
   "id": "8205dc0b",
   "metadata": {},
   "source": [
    "We will be trying different classifiers and testing the accuracy of their models."
   ]
  },
  {
   "cell_type": "code",
   "execution_count": 17,
   "id": "21bf93f9",
   "metadata": {},
   "outputs": [],
   "source": [
    "from sklearn.metrics import accuracy_score"
   ]
  },
  {
   "cell_type": "code",
   "execution_count": 18,
   "id": "81fb1893",
   "metadata": {},
   "outputs": [
    {
     "name": "stdout",
     "output_type": "stream",
     "text": [
      "Nearest Neighbors score : 0.7476190476190476\n",
      "Linear SVM score : 0.7857142857142857\n",
      "RBF SVM score : 0.7523809523809524\n",
      "Gaussian Process score : 0.7904761904761904\n",
      "Decision Tree score : 0.8047619047619048\n",
      "Random Forest score : 0.8285714285714286\n",
      "Neural Net score : 0.7857142857142857\n",
      "AdaBoost score : 0.7857142857142857\n",
      "Naive Bayes score : 0.8\n",
      "QDA score : 0.7952380952380952\n",
      "Logistic Regression score : 0.7857142857142857\n",
      "Best classifier is Random Forest with a score of : 0.8285714285714286\n"
     ]
    }
   ],
   "source": [
    "from sklearn.neural_network import MLPClassifier\n",
    "from sklearn.neighbors import KNeighborsClassifier\n",
    "from sklearn.svm import SVC\n",
    "from sklearn.gaussian_process import GaussianProcessClassifier\n",
    "from sklearn.gaussian_process.kernels import RBF\n",
    "from sklearn.tree import DecisionTreeClassifier\n",
    "from sklearn.ensemble import RandomForestClassifier, AdaBoostClassifier\n",
    "from sklearn.naive_bayes import GaussianNB\n",
    "from sklearn.discriminant_analysis import QuadraticDiscriminantAnalysis\n",
    "from sklearn.linear_model import LogisticRegression\n",
    "names = [\n",
    "    \"Nearest Neighbors\",\n",
    "    \"Linear SVM\",\n",
    "    \"RBF SVM\",\n",
    "    \"Gaussian Process\",\n",
    "    \"Decision Tree\",\n",
    "    \"Random Forest\",\n",
    "    \"Neural Net\",\n",
    "    \"AdaBoost\",\n",
    "    \"Naive Bayes\",\n",
    "    \"QDA\",\n",
    "    \"Logistic Regression\"\n",
    "]\n",
    "\n",
    "classifiers = [\n",
    "    KNeighborsClassifier(3),\n",
    "    SVC(kernel=\"linear\", C=0.025),\n",
    "    SVC(gamma=2, C=1),\n",
    "    GaussianProcessClassifier(1.0 * RBF(1.0)),\n",
    "    DecisionTreeClassifier(max_depth=5),\n",
    "    RandomForestClassifier(max_depth=5, n_estimators=100, max_features=5),\n",
    "    MLPClassifier(alpha=1, max_iter=1000),\n",
    "    AdaBoostClassifier(),\n",
    "    GaussianNB(),\n",
    "    QuadraticDiscriminantAnalysis(),\n",
    "    LogisticRegression()\n",
    "]\n",
    "\n",
    "scores=[]\n",
    "\n",
    "for name, clf in zip(names, classifiers):\n",
    "        clf.fit(X_train, y_train)\n",
    "        score = clf.score(X_test, y_test)\n",
    "        scores.append(score)\n",
    "        print(f'{name} score : {score}')\n",
    "max_score = max(scores)\n",
    "best_classifier = names[scores.index(max_score)]\n",
    "print(f\"Best classifier is {best_classifier} with a score of : {max_score}\")"
   ]
  },
  {
   "cell_type": "markdown",
   "id": "32582de2",
   "metadata": {},
   "source": [
    "From these tests, it seems that The Random Forest Classifier works the best with our dataset.\n",
    "We will be performing more test on this classifier using Cross Validation and also try to improve its parameters and accuracy relying on GridSearchCV"
   ]
  },
  {
   "cell_type": "code",
   "execution_count": 19,
   "id": "05099462",
   "metadata": {},
   "outputs": [
    {
     "data": {
      "image/png": "[encoded data removed]",
      "text/plain": [
       "<Figure size 1440x360 with 1 Axes>"
      ]
     },
     "metadata": {
      "needs_background": "light"
     },
     "output_type": "display_data"
    }
   ],
   "source": [
    "plt.figure(figsize=(20, 5))\n",
    "plt.bar(names,scores,color=\"orange\")\n",
    "plt.show()"
   ]
  },
  {
   "cell_type": "markdown",
   "id": "d7a1e9e0",
   "metadata": {},
   "source": [
    "##### Random Forest"
   ]
  },
  {
   "cell_type": "code",
   "execution_count": 20,
   "id": "6d070cf4",
   "metadata": {},
   "outputs": [
    {
     "name": "stdout",
     "output_type": "stream",
     "text": [
      "Validation 0 Accuracy 0.47619047619047616\n",
      "Validation 1 Accuracy 0.8571428571428571\n",
      "Validation 2 Accuracy 0.8476190476190476\n",
      "Validation 3 Accuracy 0.8380952380952381\n",
      "Validation 4 Accuracy 0.8666666666666667\n",
      "Validation 5 Accuracy 0.8380952380952381\n",
      "Validation 6 Accuracy 0.9038461538461539\n",
      "Validation 7 Accuracy 0.6153846153846154\n",
      "Validation 8 Accuracy 0.5288461538461539\n",
      "Validation 9 Accuracy 0.6634615384615384\n",
      "\n",
      "Average Accuracy :  0.7435347985347985\n"
     ]
    }
   ],
   "source": [
    "from sklearn.model_selection import cross_val_score\n",
    "rf_clf = RandomForestClassifier(max_depth=5, n_estimators=10, max_features=1)\n",
    "scores = cross_val_score(rf_clf, x, y, cv=10)\n",
    "\n",
    "for iter_count, accuracy in enumerate(scores):\n",
    "    print('Validation {0} Accuracy {1}'.format(iter_count, accuracy))\n",
    "\n",
    "print('\\nAverage Accuracy : ', np.mean(scores))"
   ]
  },
  {
   "cell_type": "code",
   "execution_count": 22,
   "id": "d4059e5f",
   "metadata": {},
   "outputs": [
    {
     "name": "stdout",
     "output_type": "stream",
     "text": [
      "GridSearchCV Best Hyper Parameter : {'max_depth': 10, 'min_samples_leaf': 5, 'min_samples_split': 3}\n",
      "GridSearchCV Best Accuracy: 0.8086\n",
      "Accuracy of RandomForestClassifier In Test-set : 0.8048\n"
     ]
    }
   ],
   "source": [
    "# Improving the classifier\n",
    "from sklearn.model_selection import GridSearchCV\n",
    "\n",
    "parameters = {'max_depth':[2,3,5,10],\n",
    "             'min_samples_split':[2,3,5], 'min_samples_leaf':[1,5,8]}\n",
    "\n",
    "grid_rflf = GridSearchCV(rf_clf , param_grid=parameters , scoring='accuracy' , cv=5)\n",
    "grid_rflf.fit(X_train , y_train)\n",
    "\n",
    "print('GridSearchCV Best Hyper Parameter :',grid_rflf.best_params_)\n",
    "print('GridSearchCV Best Accuracy: {0:.4f}'.format(grid_rflf.best_score_))\n",
    "best_rflf = grid_rflf.best_estimator_\n",
    "\n",
    "dpredictions = best_rflf.predict(X_test)\n",
    "accuracy = accuracy_score(y_test , dpredictions)\n",
    "print('Accuracy of RandomForestClassifier In Test-set : {0:.4f}'.format(accuracy)) "
   ]
  }
 ],
 "metadata": {
  "kernelspec": {
   "display_name": "Python 3 (ipykernel)",
   "language": "python",
   "name": "python3"
  },
  "language_info": {
   "codemirror_mode": {
    "name": "ipython",
    "version": 3
   },
   "file_extension": ".py",
   "mimetype": "text/x-python",
   "name": "python",
   "nbconvert_exporter": "python",
   "pygments_lexer": "ipython3",
   "version": "3.9.7"
  }
 },
 "nbformat": 4,
 "nbformat_minor": 5
}
